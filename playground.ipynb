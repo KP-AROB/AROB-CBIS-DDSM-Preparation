{
 "cells": [
  {
   "cell_type": "code",
   "execution_count": 70,
   "metadata": {},
   "outputs": [],
   "source": [
    "import os\n",
    "import matplotlib.pyplot as plt\n",
    "import numpy as np\n",
    "from src.utils.dicom import *\n",
    "from src.utils.crop import *\n",
    "from glob import glob\n",
    "\n",
    "data_dir = '/mnt/d/datasets/CBIS/data'\n",
    "mask_sample_path = os.path.join(data_dir, 'CBIS-DDSM/Mass-Training_P_01221_LEFT_CC_1/07-21-2016-DDSM-NA-02934/1.000000-ROI mask images-77280')\n",
    "img_sample_path = os.path.join(data_dir, 'CBIS-DDSM/Mass-Training_P_01221_LEFT_CC/07-20-2016-DDSM-NA-68911/1.000000-full mammogram images-82675')\n",
    "\n",
    "# 1. Load image\n",
    "dcm_img = glob(img_sample_path + '/*.dcm')\n",
    "img_1 = load_dicom_image(dcm_img[0])\n",
    "\n",
    "# 2. Get list of files in roi paths\n",
    "dcm_mask_files = glob(mask_sample_path + '/*.dcm')\n",
    "\n",
    "# 3. Load the mask file (the one with the same shape as the original image)\n",
    "mask = load_dicom_mask(dcm_mask_files, img_1.shape)\n",
    "\n",
    "# 4. Extract patch\n",
    "patch = extract_patch(img_1, mask)\n",
    "\n",
    "# 5. Random patches several times\n",
    "crops_size = min(patch.shape) - 10\n",
    "patches = [random_crop(patch, size=(crops_size, crops_size)) for i in range(3)]\n"
   ]
  }
 ],
 "metadata": {
  "kernelspec": {
   "display_name": "p310",
   "language": "python",
   "name": "python3"
  },
  "language_info": {
   "codemirror_mode": {
    "name": "ipython",
    "version": 3
   },
   "file_extension": ".py",
   "mimetype": "text/x-python",
   "name": "python",
   "nbconvert_exporter": "python",
   "pygments_lexer": "ipython3",
   "version": "3.10.15"
  }
 },
 "nbformat": 4,
 "nbformat_minor": 2
}
