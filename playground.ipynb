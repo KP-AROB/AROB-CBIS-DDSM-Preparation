{
 "cells": [
  {
   "cell_type": "markdown",
   "metadata": {},
   "source": [
    "# Dataset statistics"
   ]
  },
  {
   "cell_type": "code",
   "execution_count": 8,
   "metadata": {},
   "outputs": [],
   "source": [
    "from torch.utils.data import DataLoader\n",
    "from torchvision.datasets import ImageFolder\n",
    "from torchvision import transforms\n",
    "\n",
    "roi_image_dir = './data/roi-severity/train'\n",
    "transform = transforms.Compose([transforms.ToTensor()])\n",
    "dataset = ImageFolder(roi_image_dir, transform=transform)\n",
    "train_loader = DataLoader(dataset, batch_size=32, shuffle=False)\n",
    "\n",
    "test_roi_image_dir = './data/roi-severity/test'\n",
    "dataset = ImageFolder(test_roi_image_dir, transform=transform)\n",
    "test_loader = DataLoader(dataset, batch_size=32, shuffle=False)\n",
    "\n",
    "def compute_mean_std(image_dir, loader):\n",
    "    mean = 0.0\n",
    "    std = 0.0\n",
    "    total_pixels = 0\n",
    "\n",
    "    for batch in loader:\n",
    "        images = batch[0]\n",
    "        batch_pixels = images.numel()\n",
    "        mean += images.sum().item()\n",
    "        std += (images ** 2).sum().item()\n",
    "        total_pixels += batch_pixels\n",
    "\n",
    "    mean /= total_pixels\n",
    "    std = (std / total_pixels - mean ** 2) ** 0.5\n",
    "\n",
    "    print(f\"{image_dir} - Mean: {mean}, Std: {std}\")"
   ]
  },
  {
   "cell_type": "code",
   "execution_count": 9,
   "metadata": {},
   "outputs": [
    {
     "name": "stdout",
     "output_type": "stream",
     "text": [
      "./data/roi-severity/train - Mean: 0.5451273132302907, Std: 0.1577124629250931\n",
      "./data/roi-severity/test - Mean: 0.5476973526405565, Std: 0.1609649724274023\n"
     ]
    }
   ],
   "source": [
    "compute_mean_std(roi_image_dir, train_loader)\n",
    "compute_mean_std(test_roi_image_dir, test_loader)"
   ]
  },
  {
   "cell_type": "code",
   "execution_count": null,
   "metadata": {},
   "outputs": [],
   "source": []
  }
 ],
 "metadata": {
  "kernelspec": {
   "display_name": "norse",
   "language": "python",
   "name": "python3"
  },
  "language_info": {
   "codemirror_mode": {
    "name": "ipython",
    "version": 3
   },
   "file_extension": ".py",
   "mimetype": "text/x-python",
   "name": "python",
   "nbconvert_exporter": "python",
   "pygments_lexer": "ipython3",
   "version": "3.10.15"
  }
 },
 "nbformat": 4,
 "nbformat_minor": 2
}
